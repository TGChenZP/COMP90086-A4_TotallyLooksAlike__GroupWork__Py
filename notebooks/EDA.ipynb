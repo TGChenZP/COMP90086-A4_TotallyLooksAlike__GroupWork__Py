{
 "cells": [
  {
   "cell_type": "markdown",
   "metadata": {},
   "source": [
    "# EDA"
   ]
  },
  {
   "cell_type": "code",
   "execution_count": 1,
   "metadata": {},
   "outputs": [],
   "source": [
    "import pandas as pd\n",
    "import numpy as np\n",
    "import cv2\n",
    "import os\n",
    "import matplotlib.pyplot as plt\n",
    "import copy"
   ]
  },
  {
   "cell_type": "code",
   "execution_count": 6,
   "metadata": {},
   "outputs": [],
   "source": [
    "# Train List\n",
    "\n",
    "train_list = pd.read_csv('../COMP90086_2023_TLLdataset 2/train.csv')\n",
    "test_list = pd.read_csv('../COMP90086_2023_TLLdataset 2/test_candidates.csv')"
   ]
  },
  {
   "cell_type": "code",
   "execution_count": null,
   "metadata": {},
   "outputs": [],
   "source": [
    "for i in range(len(train_list['left'])):\n",
    "    ax = plt.subplot(1, 2, 1)\n",
    "    img1 = cv2.imread(f'../COMP90086_2023_TLLdataset 2/train/left/{train_list.iloc[i, 0]}.jpg')\n",
    "    plt.imshow(img1)\n",
    "\n",
    "    ax = plt.subplot(1, 2, 2)\n",
    "    img2 = cv2.imread(f'../COMP90086_2023_TLLdataset 2/train/right/{train_list.iloc[i, 1]}.jpg')\n",
    "    plt.imshow(img2)\n",
    "    plt.show()\n"
   ]
  },
  {
   "cell_type": "code",
   "execution_count": null,
   "metadata": {},
   "outputs": [],
   "source": [
    "train_list = pd.read_csv('../COMP90086_2023_TLLdataset 2/train.csv')\n",
    "test_list = pd.read_csv('../COMP90086_2023_TLLdataset 2/test_candidates.csv')"
   ]
  }
 ],
 "metadata": {
  "kernelspec": {
   "display_name": "cv",
   "language": "python",
   "name": "python3"
  },
  "language_info": {
   "codemirror_mode": {
    "name": "ipython",
    "version": 3
   },
   "file_extension": ".py",
   "mimetype": "text/x-python",
   "name": "python",
   "nbconvert_exporter": "python",
   "pygments_lexer": "ipython3",
   "version": "3.9.0"
  },
  "orig_nbformat": 4
 },
 "nbformat": 4,
 "nbformat_minor": 2
}
