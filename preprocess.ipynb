{
 "cells": [
  {
   "cell_type": "code",
   "execution_count": 19,
   "metadata": {},
   "outputs": [],
   "source": [
    "import pandas as pd\n",
    "import os\n",
    "import numpy as np\n",
    "import cv2"
   ]
  },
  {
   "cell_type": "code",
   "execution_count": 16,
   "metadata": {},
   "outputs": [],
   "source": [
    "import pandas as pd\n",
    "import os\n",
    "\n",
    "csv_path = \"dataset/train.csv\"\n",
    "left_train_path = \"dataset/train/left/\"\n",
    "right_train_path = \"dataset/train/right/\"\n",
    "df_match = pd.read_csv(csv_path)\n",
    "\n",
    "right_img_lst = []\n",
    "# list all figures in the right folder\n",
    "for filename in os.listdir(right_train_path):\n",
    "    if os.path.isfile(os.path.join(right_train_path, filename)):\n",
    "        right_img_lst.append(filename)\n",
    "\n",
    "# extract image path and concatenate with image file path\n",
    "anchor_img_lst = [filename + \".jpg\" for filename in df_match['left']]\n",
    "positive_img_lst = [filename + \".jpg\" for filename in df_match['right']]\n",
    "\n",
    "# create a list of tuples of image pairs\n",
    "match_pairs = list(zip(anchor_img_lst, positive_img_lst))"
   ]
  },
  {
   "cell_type": "code",
   "execution_count": 17,
   "metadata": {},
   "outputs": [],
   "source": [
    "# create a list of tuples of random unmatched image pairs\n",
    "unmatch_pairs = []\n",
    "for i in range(len(anchor_img_lst)):\n",
    "    rand_idx_lst = []\n",
    "    while len(rand_idx_lst) < 19:\n",
    "        rand_idx = np.random.randint(0, len(right_img_lst))\n",
    "        if rand_idx not in rand_idx_lst and right_img_lst[rand_idx] != positive_img_lst[i]:\n",
    "            rand_idx_lst.append(rand_idx)\n",
    "    unmatch_pairs.append([(anchor_img_lst[i], right_img_lst[index]) for index in rand_idx_lst])\n",
    "\n",
    "# create triplet with one left anchor image, one right positive image, and one random negative image\n",
    "triplet_pairs = []\n",
    "for i in range(len(anchor_img_lst)):\n",
    "    while True:\n",
    "        rand_idx = np.random.randint(0, len(right_img_lst))\n",
    "        if right_img_lst[rand_idx] != match_pairs[i][1]:\n",
    "            triplet = [match_pairs[i][0], match_pairs[i][1], right_img_lst[rand_idx]]\n",
    "            triplet_pairs.append(triplet)\n",
    "            break\n",
    "\n",
    "negative_img_lst = [filename[2] for filename in triplet_pairs]"
   ]
  },
  {
   "cell_type": "code",
   "execution_count": 20,
   "metadata": {},
   "outputs": [],
   "source": [
    "# prepare image for the model\n",
    "def prepare_image(filepath):\n",
    "    img = cv2.imread(filepath)\n",
    "    img = cv2.cvtColor(img, cv2.COLOR_BGR2RGB)\n",
    "    img = img.astype(\"float32\")\n",
    "    img /= 255.0\n",
    "    return img\n",
    "\n",
    "# create a list of anchor, positive, and negative images\n",
    "anchor_imgs = [prepare_image(os.path.join(left_train_path, filename)) for filename in anchor_img_lst]\n",
    "positive_imgs = [prepare_image(os.path.join(right_train_path, filename)) for filename in positive_img_lst]\n",
    "negative_imgs = [prepare_image(os.path.join(right_train_path, filename)) for filename in negative_img_lst]"
   ]
  }
 ],
 "metadata": {
  "kernelspec": {
   "display_name": "base",
   "language": "python",
   "name": "python3"
  },
  "language_info": {
   "codemirror_mode": {
    "name": "ipython",
    "version": 3
   },
   "file_extension": ".py",
   "mimetype": "text/x-python",
   "name": "python",
   "nbconvert_exporter": "python",
   "pygments_lexer": "ipython3",
   "version": "3.9.17"
  },
  "orig_nbformat": 4
 },
 "nbformat": 4,
 "nbformat_minor": 2
}
