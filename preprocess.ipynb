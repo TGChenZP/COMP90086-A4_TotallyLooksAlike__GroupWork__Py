{
 "cells": [
  {
   "cell_type": "code",
   "execution_count": 2,
   "metadata": {},
   "outputs": [],
   "source": [
    "import pandas as pd\n",
    "import os\n",
    "import numpy as np"
   ]
  },
  {
   "cell_type": "code",
   "execution_count": 15,
   "metadata": {},
   "outputs": [
    {
     "name": "stdout",
     "output_type": "stream",
     "text": [
      "38000\n"
     ]
    }
   ],
   "source": [
    "csv_path = \"dataset/train.csv\"\n",
    "left_train_path = \"dataset/train/left/\"\n",
    "right_train_path = \"dataset/train/right/\"\n",
    "df = pd.read_csv(csv_path)\n",
    "\n",
    "# extract image path and concatenate with image file path\n",
    "left_img_lst = [filename + \".jpg\" for filename in df['left']]\n",
    "right_img_lst = [filename + \".jpg\" for filename in df['right']]\n",
    "\n",
    "# create a list of tuples of image pairs\n",
    "match_pairs = list(zip(left_img_lst, right_img_lst))\n",
    "\n",
    "# create a list of tuples of random unmatched image pairs\n",
    "unmatch_pairs = []\n",
    "for i in range(len(left_img_lst)):\n",
    "    rand_idx_lst = []\n",
    "    while len(rand_idx_lst) < 19:\n",
    "        rand_idx = np.random.randint(0, len(right_img_lst))\n",
    "        if rand_idx not in rand_idx_lst and rand_idx != right_img_lst.index(match_pairs[i][1]):\n",
    "            rand_idx_lst.append(rand_idx)\n",
    "    for index in rand_idx_lst:\n",
    "        unmatch_pairs.append((left_img_lst[i], right_img_lst[index]))\n",
    "print(len(unmatch_pairs))\n"
   ]
  }
 ],
 "metadata": {
  "kernelspec": {
   "display_name": "base",
   "language": "python",
   "name": "python3"
  },
  "language_info": {
   "codemirror_mode": {
    "name": "ipython",
    "version": 3
   },
   "file_extension": ".py",
   "mimetype": "text/x-python",
   "name": "python",
   "nbconvert_exporter": "python",
   "pygments_lexer": "ipython3",
   "version": "3.9.17"
  },
  "orig_nbformat": 4
 },
 "nbformat": 4,
 "nbformat_minor": 2
}
