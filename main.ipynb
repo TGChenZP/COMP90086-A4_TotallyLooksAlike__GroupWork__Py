{
 "cells": [
  {
   "cell_type": "code",
   "execution_count": 1,
   "metadata": {},
   "outputs": [],
   "source": [
    "# from google.colab import drive\n",
    "# drive.mount('/content/drive')\n",
    "\n",
    "# import sys\n",
    "# import os\n",
    "# py_file_location = \"./drive/My Drive/LAB/COMP90086\"\n",
    "# sys.path.append(os.path.abspath(py_file_location))\n",
    "\n",
    "# !pip install einops"
   ]
  },
  {
   "cell_type": "code",
   "execution_count": 2,
   "metadata": {},
   "outputs": [
    {
     "name": "stderr",
     "output_type": "stream",
     "text": [
      "/Applications/anaconda3/lib/python3.9/site-packages/scipy/__init__.py:146: UserWarning: A NumPy version >=1.16.5 and <1.23.0 is required for this version of SciPy (detected version 1.23.5\n",
      "  warnings.warn(f\"A NumPy version >={np_minversion} and <{np_maxversion}\"\n"
     ]
    }
   ],
   "source": [
    "from environment import *\n",
    "from utils import *\n",
    "from model import *"
   ]
  },
  {
   "cell_type": "code",
   "execution_count": 3,
   "metadata": {},
   "outputs": [],
   "source": [
    "# ROOT = './drive/My Drive/LAB/COMP90086/COMP90086_2023_TLLdataset 2'\n",
    "ROOT = './COMP90086_2023_TLLdataset 2'\n",
    "seed = 19260817\n",
    "data_list = pd.read_csv(ROOT + '/train.csv')\n",
    "future_list = pd.read_csv(ROOT + '/test_candidates.csv')"
   ]
  },
  {
   "cell_type": "code",
   "execution_count": 4,
   "metadata": {},
   "outputs": [
    {
     "name": "stderr",
     "output_type": "stream",
     "text": [
      "100%|██████████| 2000/2000 [00:01<00:00, 1145.95it/s]\n",
      "100%|██████████| 2000/2000 [00:01<00:00, 1156.49it/s]\n",
      "100%|██████████| 2000/2000 [00:01<00:00, 1164.44it/s]\n",
      "100%|██████████| 2000/2000 [00:01<00:00, 1162.48it/s]\n"
     ]
    }
   ],
   "source": [
    "imgs = dict()\n",
    "for img in tqdm(os.listdir(ROOT+'/train/left')):\n",
    "  imgs[img] = prepare_image(ROOT+'/train/left/'+img)\n",
    "\n",
    "for img in tqdm(os.listdir(ROOT+'/train/right')):\n",
    "  imgs[img] = prepare_image(ROOT+'/train/right/'+img)\n",
    "\n",
    "for img in tqdm(os.listdir(ROOT+'/test/left')):\n",
    "  imgs[img] = prepare_image(ROOT+'/test/left/'+img)\n",
    "\n",
    "for img in tqdm(os.listdir(ROOT+'/test/right')):\n",
    "  imgs[img] = prepare_image(ROOT+'/test/right/'+img)"
   ]
  },
  {
   "cell_type": "code",
   "execution_count": 5,
   "metadata": {},
   "outputs": [],
   "source": [
    "train_list, valtest_list = train_test_split(data_list, test_size=0.3, random_state=seed) # train is 70%\n",
    "val_list, test_list = train_test_split(valtest_list, test_size=0.5, random_state=seed) # val is 15%, test is 15%"
   ]
  },
  {
   "cell_type": "code",
   "execution_count": 6,
   "metadata": {},
   "outputs": [
    {
     "name": "stderr",
     "output_type": "stream",
     "text": [
      "Using cache found in /Users/tg.chenny/.cache/torch/hub/pytorch_vision_v0.10.0\n"
     ]
    },
    {
     "name": "stderr",
     "output_type": "stream",
     "text": [
      "Using cache found in /Users/tg.chenny/.cache/torch/hub/pytorch_vision_v0.10.0\n"
     ]
    },
    {
     "name": "stdout",
     "output_type": "stream",
     "text": [
      "Nominal Correct: 0.10666666666666667\n",
      "           0         1         2         3         4         5         6   \\\n",
      "0    0.159827  0.146187  0.176059  0.185040  0.175513  0.154715  0.198075   \n",
      "1    0.205208  0.216618  0.199971  0.175150  0.143602  0.190572  0.203541   \n",
      "2    0.323748  0.235305  0.208223  0.326688  0.225339  0.366846  0.214512   \n",
      "3    0.262928  0.161814  0.208685  0.180319  0.193324  0.327236  0.315396   \n",
      "4    0.150403  0.115304  0.149247  0.143637  0.156388  0.160360  0.159062   \n",
      "..        ...       ...       ...       ...       ...       ...       ...   \n",
      "295  0.189713  0.170707  0.170546  0.176997  0.179061  0.152014  0.169378   \n",
      "296  0.162447  0.173863  0.194850  0.175987  0.180405  0.180712  0.166792   \n",
      "297  0.234831  0.241885  0.220779  0.227586  0.230536  0.197309  0.185181   \n",
      "298  0.182271  0.211757  0.213675  0.183176  0.172779  0.195764  0.126368   \n",
      "299  0.248237  0.234346  0.224696  0.184751  0.271906  0.157059  0.276462   \n",
      "\n",
      "           7         8         9         10        11        12        13  \\\n",
      "0    0.143233  0.159120  0.178480  0.187887  0.145587  0.181065  0.146289   \n",
      "1    0.187630  0.208957  0.202235  0.194642  0.222204  0.205775  0.205624   \n",
      "2    0.196695  0.215807  0.353102  0.220549  0.292337  0.304973  0.200145   \n",
      "3    0.268698  0.218155  0.251700  0.250258  0.269603  0.188917  0.275627   \n",
      "4    0.150291  0.147968  0.159093  0.148653  0.146938  0.135947  0.145681   \n",
      "..        ...       ...       ...       ...       ...       ...       ...   \n",
      "295  0.154052  0.207315  0.174208  0.162407  0.174968  0.152807  0.127698   \n",
      "296  0.177477  0.188946  0.162506  0.205178  0.210679  0.188534  0.198549   \n",
      "297  0.140210  0.204544  0.196673  0.226592  0.231481  0.193399  0.210714   \n",
      "298  0.147097  0.170270  0.150178  0.200325  0.180699  0.185383  0.164974   \n",
      "299  0.230345  0.261887  0.289863  0.089327  0.213559  0.231719  0.258828   \n",
      "\n",
      "           14        15        16        17        18        19  \n",
      "0    0.152683  0.189630  0.177177  0.184133  0.164116  0.153924  \n",
      "1    0.186427  0.170815  0.194052  0.215602  0.226763  0.218227  \n",
      "2    0.217260  0.203619  0.164780  0.187101  0.268392  0.235045  \n",
      "3    0.284805  0.193692  0.227625  0.218692  0.161564  0.206499  \n",
      "4    0.156030  0.157497  0.146040  0.136628  0.139415  0.131128  \n",
      "..        ...       ...       ...       ...       ...       ...  \n",
      "295  0.184693  0.185880  0.139207  0.174898  0.145524  0.175738  \n",
      "296  0.141547  0.178041  0.202943  0.199998  0.192903  0.133367  \n",
      "297  0.238014  0.193340  0.202860  0.214432  0.272774  0.095594  \n",
      "298  0.185709  0.201035  0.182836  0.185664  0.179782  0.206393  \n",
      "299  0.144004  0.258669  0.246918  0.301405  0.298287  0.306179  \n",
      "\n",
      "[300 rows x 20 columns]\n"
     ]
    }
   ],
   "source": [
    "class CNN_Key_Query_Triplet_CFG:\n",
    "    num_false               = 1 # how many hard negative to try for each anchor\n",
    "    encoder                 = 'resnet18'\n",
    "    freeze_encoder          = True\n",
    "    input_shape             = (64, 3, 64, 64)\n",
    "    num_mlp_layers          = 1\n",
    "    hidden_dim              = 512\n",
    "    dropout                 = 0.1\n",
    "    res_learning            = False\n",
    "    embed_dim               = 64 # size of the actual embedding for each image\n",
    "    pretrained              = True      \n",
    "    # ------------------------ #\n",
    "    random_state            = seed\n",
    "    lr                      = 1e-5\n",
    "    loss                    = nn.TripletMarginLoss() \n",
    "    ROOT                    = ROOT # rootpath for loading images\n",
    "    rootpath                = './' # rootpath for saving\n",
    "    # rootpath                = py_file_location\n",
    "    DataFactory_Triplet     = DataFactory_Triplet\n",
    "    DataLoader_Triplet      = DataLoader_Triplet\n",
    "    images                  = imgs\n",
    "    name                    = 'resnet18_triplet'\n",
    "\n",
    "cnn_key_query_triplet = CNN_Key_Query_Triplet(CNN_Key_Query_Triplet_CFG)\n",
    "cnn_key_query_triplet.fit(train_list, val_list, batch_size = 64, epochs=32, patience=8, scheduler=False, grad_clip=False, mark='')\n",
    "cnn_key_query_triplet.load()\n",
    "cnn_key_query_triplet.eval(val_list, batch_size=128, return_loss=False)\n",
    "\n",
    "print('Best Validation:')\n",
    "future_val_list = turn_val_into_future(val_list, seed)\n",
    "cnn_key_query_triplet.real_eval(future_val_list, 100)\n",
    "\n",
    "print('Best Test:')\n",
    "future_test_list = turn_val_into_future(test_list, seed)\n",
    "cnn_key_query_triplet.real_eval(future_test_list, 100)\n",
    "\n",
    "final_out1 = cnn_key_query_triplet.real_eval(future_list, 100)"
   ]
  },
  {
   "cell_type": "code",
   "execution_count": 8,
   "metadata": {},
   "outputs": [
    {
     "name": "stdout",
     "output_type": "stream",
     "text": [
      "Nominal Correct: 0.08333333333333333\n",
      "           0         1         2         3         4         5         6   \\\n",
      "0    0.152982  0.133759  0.173416  0.182446  0.177115  0.150745  0.187410   \n",
      "1    0.201699  0.199156  0.182412  0.165102  0.143527  0.165007  0.193059   \n",
      "2    0.341142  0.224374  0.219698  0.326271  0.239818  0.317265  0.238229   \n",
      "3    0.255462  0.162610  0.227610  0.181708  0.211355  0.361354  0.331517   \n",
      "4    0.158714  0.113551  0.155492  0.148205  0.166054  0.166288  0.171056   \n",
      "..        ...       ...       ...       ...       ...       ...       ...   \n",
      "295  0.188981  0.176581  0.173278  0.174944  0.178702  0.153727  0.157077   \n",
      "296  0.172026  0.172621  0.194360  0.217781  0.194726  0.178120  0.167713   \n",
      "297  0.212910  0.216926  0.173870  0.213261  0.210801  0.172478  0.161855   \n",
      "298  0.167704  0.205341  0.199047  0.178392  0.170565  0.191400  0.130152   \n",
      "299  0.240525  0.214966  0.204335  0.176351  0.253026  0.155454  0.255946   \n",
      "\n",
      "           7         8         9         10        11        12        13  \\\n",
      "0    0.137902  0.148243  0.173623  0.182390  0.144434  0.177785  0.148356   \n",
      "1    0.175192  0.181324  0.174018  0.178558  0.210129  0.174411  0.186560   \n",
      "2    0.194891  0.207058  0.330545  0.241396  0.297887  0.311055  0.204857   \n",
      "3    0.257348  0.202772  0.269082  0.208618  0.262830  0.197122  0.305913   \n",
      "4    0.156527  0.140907  0.158986  0.159768  0.153436  0.137844  0.149925   \n",
      "..        ...       ...       ...       ...       ...       ...       ...   \n",
      "295  0.150325  0.204016  0.185972  0.157083  0.181118  0.157104  0.125559   \n",
      "296  0.160022  0.204092  0.175631  0.202768  0.213714  0.188172  0.210132   \n",
      "297  0.131907  0.189704  0.174023  0.213835  0.225412  0.178396  0.189771   \n",
      "298  0.152544  0.174015  0.158416  0.192169  0.179939  0.181398  0.160844   \n",
      "299  0.232767  0.284034  0.265680  0.088545  0.220782  0.233839  0.252594   \n",
      "\n",
      "           14        15        16        17        18        19  \n",
      "0    0.156572  0.173431  0.172933  0.183119  0.157690  0.161261  \n",
      "1    0.189734  0.153196  0.191257  0.197732  0.202167  0.208798  \n",
      "2    0.209215  0.187519  0.159156  0.190807  0.303687  0.207623  \n",
      "3    0.268347  0.198236  0.227514  0.202294  0.172615  0.207188  \n",
      "4    0.162952  0.162850  0.151707  0.120582  0.141118  0.137800  \n",
      "..        ...       ...       ...       ...       ...       ...  \n",
      "295  0.178256  0.190782  0.138566  0.175638  0.158693  0.173276  \n",
      "296  0.149131  0.174653  0.204327  0.201913  0.196009  0.130614  \n",
      "297  0.219236  0.188147  0.181133  0.197968  0.244602  0.095803  \n",
      "298  0.184667  0.193189  0.175739  0.193348  0.176928  0.202249  \n",
      "299  0.141004  0.280891  0.242876  0.281465  0.276085  0.273275  \n",
      "\n",
      "[300 rows x 20 columns]\n"
     ]
    }
   ],
   "source": [
    "class CNN_Key_Query_Categorisation_CFG:\n",
    "    num_false               = 1 # how many false samples for each true sample\n",
    "    target                  = 1 # target loss for correct. false will be 1-target\n",
    "    encoder                 = 'resnet18' # the name of the model we want to load from torchhub\n",
    "    freeze_encoder          = True\n",
    "    input_shape             = (64, 3, 64, 64) # (batch size, 3, [what our loaded in images look like])\n",
    "    num_mlp_layers          = 1 # how many mlp layers in the end. 0 means no mlp and just 1 out layer; n means (n+1)mlp + out\n",
    "    hidden_dim              = 512 # hidden dim of mlp\n",
    "    dropout                 = 0.1 # dropout rate of mlp\n",
    "    res_learning            = False # whether to use residual layer in mlp\n",
    "    pretrained              = True # whether to use pretrained encoder\n",
    "    # ------------------------ #\n",
    "    random_state            = seed\n",
    "    lr                      = 1e-5\n",
    "    loss                    = nn.BCELoss()   \n",
    "    ROOT                    = ROOT # rootpath for loading images\n",
    "    rootpath                = './' # rootpath for saving models\n",
    "    # rootpath                = py_file_location\n",
    "    DataFactory_Categorisation = DataFactory_Categorisation\n",
    "    DataLoader_Categorisation = DataLoader_Categorisation\n",
    "    images                  = imgs\n",
    "    name                    = 'resnet18_categorisation'\n",
    "\n",
    "\n",
    "cnn_key_query_categorisation = CNN_Key_Query_Categorisation(CNN_Key_Query_Categorisation_CFG)\n",
    "cnn_key_query_categorisation.fit(train_list, val_list, batch_size = 64, epochs=32, patience=8, scheduler=False, grad_clip=False, mark='')\n",
    "cnn_key_query_categorisation.load()\n",
    "cnn_key_query_categorisation.eval(val_list, batch_size=128, return_loss=False)\n",
    "\n",
    "print('Best Validation:')\n",
    "future_val_list = turn_val_into_future(val_list, seed)\n",
    "cnn_key_query_categorisation.real_eval(future_val_list, 100)\n",
    "\n",
    "print('Best Test:')\n",
    "future_test_list = turn_val_into_future(test_list, seed)\n",
    "cnn_key_query_categorisation.real_eval(future_test_list, 100)\n",
    "\n",
    "final_out2 = cnn_key_query_categorisation.real_eval(future_list, 100)"
   ]
  },
  {
   "cell_type": "code",
   "execution_count": null,
   "metadata": {},
   "outputs": [],
   "source": []
  }
 ],
 "metadata": {
  "kernelspec": {
   "display_name": "cv",
   "language": "python",
   "name": "python3"
  },
  "language_info": {
   "codemirror_mode": {
    "name": "ipython",
    "version": 3
   },
   "file_extension": ".py",
   "mimetype": "text/x-python",
   "name": "python",
   "nbconvert_exporter": "python",
   "pygments_lexer": "ipython3",
   "version": "3.9.7"
  },
  "orig_nbformat": 4
 },
 "nbformat": 4,
 "nbformat_minor": 2
}
