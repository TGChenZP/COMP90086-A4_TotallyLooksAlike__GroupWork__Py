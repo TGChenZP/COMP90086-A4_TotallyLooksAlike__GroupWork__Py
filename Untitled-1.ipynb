{
 "cells": [
  {
   "cell_type": "code",
   "execution_count": 1,
   "metadata": {},
   "outputs": [],
   "source": [
    "from environment import *\n",
    "from utils import *\n",
    "from model import *"
   ]
  },
  {
   "cell_type": "code",
   "execution_count": null,
   "metadata": {},
   "outputs": [],
   "source": [
    "ROOT = './COMP90086_2023_TLLdataset 2'\n",
    "seed = 19260817 # set seed\n",
    "IMAGE_SIZE = 0\n",
    "data_list = pd.read_csv(ROOT + '/train.csv')\n",
    "future_list = pd.read_csv(ROOT + '/test_candidates.csv')"
   ]
  },
  {
   "cell_type": "code",
   "execution_count": null,
   "metadata": {},
   "outputs": [],
   "source": [
    "# preload all images\n",
    "\n",
    "imgs = dict()\n",
    "for img in tqdm(os.listdir(ROOT+'/train/left')):\n",
    "    imgs[img] = prepare_image(ROOT+'/train/left/'+img, resize_shape=IMAGE_SIZE)\n",
    "\n",
    "for img in tqdm(os.listdir(ROOT+'/train/right')):\n",
    "    imgs[img] = prepare_image(ROOT+'/train/right/'+img, resize_shape=IMAGE_SIZE)\n",
    "\n",
    "for img in tqdm(os.listdir(ROOT+'/test/left')):\n",
    "    imgs[img] = prepare_image(ROOT+'/test/left/'+img, resize_shape=IMAGE_SIZE)\n",
    "\n",
    "for img in tqdm(os.listdir(ROOT+'/test/right')):\n",
    "    imgs[img] = prepare_image(ROOT+'/test/right/'+img, resize_shape=IMAGE_SIZE)"
   ]
  },
  {
   "cell_type": "code",
   "execution_count": null,
   "metadata": {},
   "outputs": [],
   "source": [
    "# Train Val Test Split\n",
    "train_list, valtest_list = train_test_split(data_list, test_size=0.3, random_state=seed) # train is 70%\n",
    "val_list, test_list = train_test_split(valtest_list, test_size=0.5, random_state=seed) # val is 15%, test is 15%"
   ]
  },
  {
   "cell_type": "code",
   "execution_count": null,
   "metadata": {},
   "outputs": [],
   "source": [
    "future_test_list = turn_val_into_future(test_list, seed)\n"
   ]
  }
 ],
 "metadata": {
  "kernelspec": {
   "display_name": "base",
   "language": "python",
   "name": "python3"
  },
  "language_info": {
   "codemirror_mode": {
    "name": "ipython",
    "version": 3
   },
   "file_extension": ".py",
   "mimetype": "text/x-python",
   "name": "python",
   "nbconvert_exporter": "python",
   "pygments_lexer": "ipython3",
   "version": "3.9.17"
  },
  "orig_nbformat": 4
 },
 "nbformat": 4,
 "nbformat_minor": 2
}
